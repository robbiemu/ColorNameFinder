{
 "cells": [
  {
   "cell_type": "code",
   "execution_count": 1,
   "metadata": {},
   "outputs": [],
   "source": [
    "from scipy.optimize import minimize\n",
    "from skimage.color import deltaE_ciede2000, deltaE_cie76, rgb2lab\n",
    "import numpy as np\n",
    "import math\n",
    "from collections import namedtuple\n"
   ]
  },
  {
   "cell_type": "code",
   "execution_count": 2,
   "metadata": {},
   "outputs": [],
   "source": [
    "def clamp(low, x, high):\n",
    "  return max(low, min(x, high))"
   ]
  },
  {
   "cell_type": "code",
   "execution_count": 3,
   "metadata": {},
   "outputs": [],
   "source": [
    "RGB = namedtuple('RGB', ['r','g','b'])\n",
    "def hex_to_rgb(hex_color):\n",
    "    hex_color = hex_color.lstrip('#')\n",
    "    return RGB(*(int(hex_color[i:i+2], 16) for i in (0, 2, 4)))\n",
    "\n",
    "def rgb_to_hex(rgb: RGB):\n",
    "    return '#{:02x}{:02x}{:02x}'.format(*(map(lambda x: int(round(x)),rgb)))"
   ]
  },
  {
   "cell_type": "code",
   "execution_count": 4,
   "metadata": {},
   "outputs": [],
   "source": [
    "def shade_func(color, offset):\n",
    "    r,g,b = color\n",
    "    offset *= 255\n",
    "    return RGB(r - offset, g - offset, b - offset)\n",
    "\n",
    "def tint_func(color, offset):\n",
    "    r,g,b = color\n",
    "    offset *= 255\n",
    "    return RGB(r + offset, g + offset, b + offset)\n",
    "\n",
    "ToneComponents=namedtuple('ToneComponents', ['ratio', 'value']) \n",
    "def tone_func(color, offset):\n",
    "    r, g, b = color\n",
    "    gr = offset.ratio * 255\n",
    "    gray = RGB(gr, gr, gr)\n",
    "    return (\n",
    "        r * (1 - offset.value) + gray.r * offset.value,\n",
    "        g * (1 - offset.value) + gray.g * offset.value,\n",
    "        b * (1 - offset.value) + gray.b * offset.value\n",
    "    )"
   ]
  },
  {
   "cell_type": "code",
   "execution_count": 5,
   "metadata": {},
   "outputs": [],
   "source": [
    "class ColorNameFinder:\n",
    "  def __init__(self, colors, deltaE=None):\n",
    "    if deltaE is None:\n",
    "      distance = deltaE_ciede2000\n",
    "    self.distance = distance\n",
    "\n",
    "    self.colors = [hex_to_rgb(color) for color in colors]\n",
    "\n",
    "  def __distance(self, rgb1, rgb2):\n",
    "    return self.deltaE(rgb2lab(rgb1), rgb2lab(rgb2)).mean()\n",
    "\n",
    "  def __factory_objective(self, target, preprocessor=lambda x: x):\n",
    "    def fn(x):\n",
    "      x = preprocessor(x)\n",
    "      color = self.colors[x[0]]\n",
    "      offset, ratio = x[1], x[2]\n",
    "      bound_offset = abs(offset)\n",
    "      offsets = [\n",
    "        shade_func(color, bound_offset), \n",
    "        tint_func(color, bound_offset), \n",
    "        tone_func(color, ToneComponents(ratio=ratio, value=offset))]\n",
    "      least_error = min([(right, self.distance(target, right)) \\\n",
    "        for right in offsets], key = lambda x: x[1])[1]   \n",
    "      return least_error\n",
    "\n",
    "    return fn\n",
    "  \n",
    "  def __resolve_offset_type(self, sample, target, offset, ratio):\n",
    "    bound_offset = abs(offset) \n",
    "\n",
    "    shade = shade_func(sample, bound_offset)\n",
    "    tint = tint_func(sample, bound_offset)\n",
    "    tone = tone_func(sample, ToneComponents(ratio=ratio, value=offset))\n",
    "\n",
    "    lookup = {}\n",
    "    lookup[shade] =  \"shade\"\n",
    "    lookup[tint] =  \"tint\"\n",
    "    lookup[tone] =  \"tone\"\n",
    "\n",
    "    offsets = [shade, tint, tone]\n",
    "    least_error = min([(right, self.distance(target, right)) for right in offsets], key = lambda x: x[1])[0]   \n",
    "\n",
    "    return lookup[least_error]\n",
    "\n",
    "  def nearest_color(self, target):\n",
    "    target = hex_to_rgb(target)\n",
    "\n",
    "    preprocessor=lambda x: (int(x[0]), x[1], x[2])\n",
    "    objective = self.__factory_objective(target, preprocessor=preprocessor)\n",
    "    search = [minimize( objective, \n",
    "                        (i, 0, 0),\n",
    "                        bounds=[(i, i), (-1, 1), (0, 1)],\n",
    "                        method='Powell') \\\n",
    "              for i, color in enumerate(self.colors)]\n",
    "    best = min(search, key=lambda x: x.fun)\n",
    "    indices = [i for i, v in enumerate(search) if v.fun == best.fun]\n",
    "    index = min(indices, \\\n",
    "      key=lambda j: search[j].x[1])\n",
    "    result = search[index]\n",
    "\n",
    "    color_index = int(result.x[0])\n",
    "    nearest_color = self.colors[color_index]\n",
    "    _, offset, ratio = preprocessor(result.x)\n",
    "  \n",
    "    offset_type = self.__resolve_offset_type(nearest_color, target, offset, ratio)\n",
    "\n",
    "    report = {\n",
    "      \"color\": rgb_to_hex(nearest_color),\n",
    "      \"offset\": {\n",
    "        \"type\": offset_type,\n",
    "        \"value\": offset if offset_type == 'tone' else abs(offset)\n",
    "      }\n",
    "    }\n",
    "    if offset_type == 'tone':\n",
    "      report[\"offset\"][\"white ratio\"] = ratio\n",
    "\n",
    "    return report\n"
   ]
  },
  {
   "cell_type": "code",
   "execution_count": 6,
   "metadata": {},
   "outputs": [
    {
     "data": {
      "text/plain": [
       "{'color': '#e0b0ff',\n",
       " 'offset': {'type': 'shade', 'value': 0.004674511436016945}}"
      ]
     },
     "execution_count": 6,
     "metadata": {},
     "output_type": "execute_result"
    }
   ],
   "source": [
    "colors = ['#E0B0FF', '#FF0000', '#000000', '#0000FF']\n",
    "target = '#DFAEFE'\n",
    "agent = ColorNameFinder(colors)\n",
    "agent.nearest_color(target)"
   ]
  },
  {
   "cell_type": "code",
   "execution_count": 9,
   "metadata": {},
   "outputs": [
    {
     "data": {
      "text/plain": [
       "{'color': '#acaaaa', 'offset': {'type': 'shade', 'value': 0.07370528284098173}}"
      ]
     },
     "execution_count": 9,
     "metadata": {},
     "output_type": "execute_result"
    }
   ],
   "source": [
    "colors = ['#1199ff', '#777775', '#acaaaa', '#0000FF']\n",
    "target = '#999999'\n",
    "agent = ColorNameFinder(colors)\n",
    "agent.nearest_color(target)"
   ]
  },
  {
   "cell_type": "code",
   "execution_count": 8,
   "metadata": {},
   "outputs": [
    {
     "ename": "AssertionError",
     "evalue": "",
     "output_type": "error",
     "traceback": [
      "\u001b[0;31m---------------------------------------------------------------------------\u001b[0m",
      "\u001b[0;31mAssertionError\u001b[0m                            Traceback (most recent call last)",
      "Cell \u001b[0;32mIn[8], line 4\u001b[0m\n\u001b[1;32m      2\u001b[0m target \u001b[39m=\u001b[39m \u001b[39m'\u001b[39m\u001b[39m#999999\u001b[39m\u001b[39m'\u001b[39m\n\u001b[1;32m      3\u001b[0m agent \u001b[39m=\u001b[39m ColorNameFinder(colors)\n\u001b[0;32m----> 4\u001b[0m \u001b[39massert\u001b[39;00m agent\u001b[39m.\u001b[39mnearest_color(target)[\u001b[39m'\u001b[39m\u001b[39mcolor\u001b[39m\u001b[39m'\u001b[39m] \u001b[39m==\u001b[39m \u001b[39m'\u001b[39m\u001b[39m#aaaaaa\u001b[39m\u001b[39m'\u001b[39m\n\u001b[1;32m      6\u001b[0m \u001b[39m# this one fails because it fails to find the optimal for #aaaaaa\u001b[39;00m\n\u001b[1;32m      7\u001b[0m \u001b[39m# see agent.distance(hex_to_rgb(target), shade_func(hex_to_rgb(colors[2]), 0.1333333333333333/2))\u001b[39;00m\n",
      "\u001b[0;31mAssertionError\u001b[0m: "
     ]
    }
   ],
   "source": [
    "colors = ['#1199ff', '#777777', '#aaaaaa', '#0000FF']\n",
    "target = '#999999'\n",
    "agent = ColorNameFinder(colors)\n",
    "assert agent.nearest_color(target)['color'] == '#aaaaaa'\n",
    "\n",
    "# this one fails because it fails to find the optimal for #aaaaaa\n",
    "# see agent.distance(hex_to_rgb(target), shade_func(hex_to_rgb(colors[2]), 0.1333333333333333/2))"
   ]
  },
  {
   "cell_type": "code",
   "execution_count": 10,
   "metadata": {},
   "outputs": [
    {
     "data": {
      "text/plain": [
       "0.25097096868458113"
      ]
     },
     "execution_count": 10,
     "metadata": {},
     "output_type": "execute_result"
    }
   ],
   "source": [
    "#agent.distance(hex_to_rgb(target), shade_func(hex_to_rgb(colors[0]), 0.9999999999998693))\n",
    "agent.distance(hex_to_rgb(target), shade_func(hex_to_rgb(colors[2]), 0.1333333333333333/2))\n",
    "#agent.distance(hex_to_rgb(target), tone_func(hex_to_rgb(colors[0]), ToneComponents(6.61069608225157e-05, 1)))"
   ]
  },
  {
   "cell_type": "code",
   "execution_count": 11,
   "metadata": {},
   "outputs": [
    {
     "data": {
      "text/plain": [
       "'#999797'"
      ]
     },
     "execution_count": 11,
     "metadata": {},
     "output_type": "execute_result"
    }
   ],
   "source": [
    "#rgb_to_hex(shade_func(hex_to_rgb(colors[0]), 0.9999999999998693))\n",
    "rgb_to_hex(shade_func(hex_to_rgb(colors[2]), 0.07370528284098173))\n",
    "\n",
    "# tone_func(hex_to_rgb(colors[0]), ToneComponents(6.61069608225157e-05, 1))"
   ]
  }
 ],
 "metadata": {
  "kernelspec": {
   "display_name": "Python 3",
   "language": "python",
   "name": "python3"
  },
  "language_info": {
   "codemirror_mode": {
    "name": "ipython",
    "version": 3
   },
   "file_extension": ".py",
   "mimetype": "text/x-python",
   "name": "python",
   "nbconvert_exporter": "python",
   "pygments_lexer": "ipython3",
   "version": "3.11.1"
  },
  "orig_nbformat": 4,
  "vscode": {
   "interpreter": {
    "hash": "d4aacd93c8098727e19a7a9c4c7d12a21cb3d49ebfed66288f41d6f2e3c80c61"
   }
  }
 },
 "nbformat": 4,
 "nbformat_minor": 2
}
